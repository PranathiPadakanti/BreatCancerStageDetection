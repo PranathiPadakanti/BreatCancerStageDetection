{
 "cells": [
  {
   "cell_type": "code",
   "execution_count": 1,
   "metadata": {
    "id": "zZsG5i9GEyVx"
   },
   "outputs": [],
   "source": [
    "import warnings\n",
    "import numpy as np\n",
    "import pandas as pd\n",
    "import matplotlib.pyplot as plt\n",
    "import sklearn\n",
    "from scipy import stats\n",
    "from sklearn.metrics import r2_score\n",
    "from sklearn.model_selection import train_test_split\n",
    "from sklearn.metrics import accuracy_score\n",
    "from sklearn.metrics import recall_score\n",
    "from sklearn.metrics import precision_score\n",
    "from sklearn import preprocessing\n",
    "from sklearn.preprocessing import StandardScaler, MinMaxScaler, LabelEncoder\n",
    "from sklearn.metrics import confusion_matrix\n",
    "from sklearn.metrics import classification_report\n",
    "from sklearn.linear_model import LogisticRegression\n",
    "import seaborn as sns\n",
    "from sklearn.ensemble import RandomForestClassifier\n",
    "warnings.filterwarnings('ignore')\n"
   ]
  },
  {
   "cell_type": "code",
   "execution_count": 2,
   "metadata": {
    "id": "n9vZasllInuA"
   },
   "outputs": [],
   "source": [
    "data=pd.read_csv('data.csv')"
   ]
  },
  {
   "cell_type": "code",
   "execution_count": 3,
   "metadata": {
    "colab": {
     "base_uri": "https://localhost:8080/"
    },
    "id": "PpThPAzXI2Hy",
    "outputId": "9f3a57f4-56cd-4da0-c87a-1e6206ac51fc"
   },
   "outputs": [
    {
     "name": "stdout",
     "output_type": "stream",
     "text": [
      "<class 'pandas.core.frame.DataFrame'>\n",
      "RangeIndex: 569 entries, 0 to 568\n",
      "Data columns (total 32 columns):\n",
      " #   Column                   Non-Null Count  Dtype  \n",
      "---  ------                   --------------  -----  \n",
      " 0   id                       569 non-null    int64  \n",
      " 1   diagnosis                567 non-null    object \n",
      " 2   radius_mean              569 non-null    float64\n",
      " 3   texture_mean             569 non-null    float64\n",
      " 4   perimeter_mean           569 non-null    float64\n",
      " 5   area_mean                569 non-null    float64\n",
      " 6   smoothness_mean          569 non-null    float64\n",
      " 7   compactness_mean         569 non-null    float64\n",
      " 8   concavity_mean           569 non-null    float64\n",
      " 9   concave points_mean      569 non-null    float64\n",
      " 10  symmetry_mean            569 non-null    float64\n",
      " 11  fractal_dimension_mean   569 non-null    float64\n",
      " 12  radius_se                569 non-null    float64\n",
      " 13  texture_se               569 non-null    float64\n",
      " 14  perimeter_se             569 non-null    float64\n",
      " 15  area_se                  569 non-null    float64\n",
      " 16  smoothness_se            569 non-null    float64\n",
      " 17  compactness_se           569 non-null    float64\n",
      " 18  concavity_se             569 non-null    float64\n",
      " 19  concave points_se        569 non-null    float64\n",
      " 20  symmetry_se              569 non-null    float64\n",
      " 21  fractal_dimension_se     569 non-null    float64\n",
      " 22  radius_worst             569 non-null    float64\n",
      " 23  texture_worst            569 non-null    float64\n",
      " 24  perimeter_worst          569 non-null    float64\n",
      " 25  area_worst               569 non-null    float64\n",
      " 26  smoothness_worst         569 non-null    float64\n",
      " 27  compactness_worst        569 non-null    float64\n",
      " 28  concavity_worst          569 non-null    float64\n",
      " 29  concave points_worst     569 non-null    float64\n",
      " 30  symmetry_worst           569 non-null    float64\n",
      " 31  fractal_dimension_worst  569 non-null    float64\n",
      "dtypes: float64(30), int64(1), object(1)\n",
      "memory usage: 142.4+ KB\n"
     ]
    }
   ],
   "source": [
    "data.info()"
   ]
  },
  {
   "cell_type": "code",
   "execution_count": 4,
   "metadata": {
    "colab": {
     "base_uri": "https://localhost:8080/",
     "height": 367
    },
    "id": "OekGNWX1I_ih",
    "outputId": "2143bc36-b42c-40ef-f057-e739ccfeccfc"
   },
   "outputs": [
    {
     "data": {
      "text/html": [
       "<div>\n",
       "<style scoped>\n",
       "    .dataframe tbody tr th:only-of-type {\n",
       "        vertical-align: middle;\n",
       "    }\n",
       "\n",
       "    .dataframe tbody tr th {\n",
       "        vertical-align: top;\n",
       "    }\n",
       "\n",
       "    .dataframe thead th {\n",
       "        text-align: right;\n",
       "    }\n",
       "</style>\n",
       "<table border=\"1\" class=\"dataframe\">\n",
       "  <thead>\n",
       "    <tr style=\"text-align: right;\">\n",
       "      <th></th>\n",
       "      <th>id</th>\n",
       "      <th>radius_mean</th>\n",
       "      <th>texture_mean</th>\n",
       "      <th>perimeter_mean</th>\n",
       "      <th>area_mean</th>\n",
       "      <th>smoothness_mean</th>\n",
       "      <th>compactness_mean</th>\n",
       "      <th>concavity_mean</th>\n",
       "      <th>concave points_mean</th>\n",
       "      <th>symmetry_mean</th>\n",
       "      <th>...</th>\n",
       "      <th>radius_worst</th>\n",
       "      <th>texture_worst</th>\n",
       "      <th>perimeter_worst</th>\n",
       "      <th>area_worst</th>\n",
       "      <th>smoothness_worst</th>\n",
       "      <th>compactness_worst</th>\n",
       "      <th>concavity_worst</th>\n",
       "      <th>concave points_worst</th>\n",
       "      <th>symmetry_worst</th>\n",
       "      <th>fractal_dimension_worst</th>\n",
       "    </tr>\n",
       "  </thead>\n",
       "  <tbody>\n",
       "    <tr>\n",
       "      <th>count</th>\n",
       "      <td>5.690000e+02</td>\n",
       "      <td>569.000000</td>\n",
       "      <td>569.000000</td>\n",
       "      <td>569.000000</td>\n",
       "      <td>569.000000</td>\n",
       "      <td>569.000000</td>\n",
       "      <td>569.000000</td>\n",
       "      <td>569.000000</td>\n",
       "      <td>569.000000</td>\n",
       "      <td>569.000000</td>\n",
       "      <td>...</td>\n",
       "      <td>569.000000</td>\n",
       "      <td>569.000000</td>\n",
       "      <td>569.000000</td>\n",
       "      <td>569.000000</td>\n",
       "      <td>569.000000</td>\n",
       "      <td>569.000000</td>\n",
       "      <td>569.000000</td>\n",
       "      <td>569.000000</td>\n",
       "      <td>569.000000</td>\n",
       "      <td>569.000000</td>\n",
       "    </tr>\n",
       "    <tr>\n",
       "      <th>mean</th>\n",
       "      <td>3.037183e+07</td>\n",
       "      <td>14.127292</td>\n",
       "      <td>19.289649</td>\n",
       "      <td>91.969033</td>\n",
       "      <td>654.889104</td>\n",
       "      <td>0.096360</td>\n",
       "      <td>0.104341</td>\n",
       "      <td>0.088799</td>\n",
       "      <td>0.048919</td>\n",
       "      <td>0.181162</td>\n",
       "      <td>...</td>\n",
       "      <td>16.269190</td>\n",
       "      <td>25.677223</td>\n",
       "      <td>107.261213</td>\n",
       "      <td>880.583128</td>\n",
       "      <td>0.132369</td>\n",
       "      <td>0.254265</td>\n",
       "      <td>0.272188</td>\n",
       "      <td>0.114606</td>\n",
       "      <td>0.290076</td>\n",
       "      <td>0.083946</td>\n",
       "    </tr>\n",
       "    <tr>\n",
       "      <th>std</th>\n",
       "      <td>1.250206e+08</td>\n",
       "      <td>3.524049</td>\n",
       "      <td>4.301036</td>\n",
       "      <td>24.298981</td>\n",
       "      <td>351.914129</td>\n",
       "      <td>0.014064</td>\n",
       "      <td>0.052813</td>\n",
       "      <td>0.079720</td>\n",
       "      <td>0.038803</td>\n",
       "      <td>0.027414</td>\n",
       "      <td>...</td>\n",
       "      <td>4.833242</td>\n",
       "      <td>6.146258</td>\n",
       "      <td>33.602542</td>\n",
       "      <td>569.356993</td>\n",
       "      <td>0.022832</td>\n",
       "      <td>0.157336</td>\n",
       "      <td>0.208624</td>\n",
       "      <td>0.065732</td>\n",
       "      <td>0.061867</td>\n",
       "      <td>0.018061</td>\n",
       "    </tr>\n",
       "    <tr>\n",
       "      <th>min</th>\n",
       "      <td>8.670000e+03</td>\n",
       "      <td>6.981000</td>\n",
       "      <td>9.710000</td>\n",
       "      <td>43.790000</td>\n",
       "      <td>143.500000</td>\n",
       "      <td>0.052630</td>\n",
       "      <td>0.019380</td>\n",
       "      <td>0.000000</td>\n",
       "      <td>0.000000</td>\n",
       "      <td>0.106000</td>\n",
       "      <td>...</td>\n",
       "      <td>7.930000</td>\n",
       "      <td>12.020000</td>\n",
       "      <td>50.410000</td>\n",
       "      <td>185.200000</td>\n",
       "      <td>0.071170</td>\n",
       "      <td>0.027290</td>\n",
       "      <td>0.000000</td>\n",
       "      <td>0.000000</td>\n",
       "      <td>0.156500</td>\n",
       "      <td>0.055040</td>\n",
       "    </tr>\n",
       "    <tr>\n",
       "      <th>25%</th>\n",
       "      <td>8.692180e+05</td>\n",
       "      <td>11.700000</td>\n",
       "      <td>16.170000</td>\n",
       "      <td>75.170000</td>\n",
       "      <td>420.300000</td>\n",
       "      <td>0.086370</td>\n",
       "      <td>0.064920</td>\n",
       "      <td>0.029560</td>\n",
       "      <td>0.020310</td>\n",
       "      <td>0.161900</td>\n",
       "      <td>...</td>\n",
       "      <td>13.010000</td>\n",
       "      <td>21.080000</td>\n",
       "      <td>84.110000</td>\n",
       "      <td>515.300000</td>\n",
       "      <td>0.116600</td>\n",
       "      <td>0.147200</td>\n",
       "      <td>0.114500</td>\n",
       "      <td>0.064930</td>\n",
       "      <td>0.250400</td>\n",
       "      <td>0.071460</td>\n",
       "    </tr>\n",
       "    <tr>\n",
       "      <th>50%</th>\n",
       "      <td>9.060240e+05</td>\n",
       "      <td>13.370000</td>\n",
       "      <td>18.840000</td>\n",
       "      <td>86.240000</td>\n",
       "      <td>551.100000</td>\n",
       "      <td>0.095870</td>\n",
       "      <td>0.092630</td>\n",
       "      <td>0.061540</td>\n",
       "      <td>0.033500</td>\n",
       "      <td>0.179200</td>\n",
       "      <td>...</td>\n",
       "      <td>14.970000</td>\n",
       "      <td>25.410000</td>\n",
       "      <td>97.660000</td>\n",
       "      <td>686.500000</td>\n",
       "      <td>0.131300</td>\n",
       "      <td>0.211900</td>\n",
       "      <td>0.226700</td>\n",
       "      <td>0.099930</td>\n",
       "      <td>0.282200</td>\n",
       "      <td>0.080040</td>\n",
       "    </tr>\n",
       "    <tr>\n",
       "      <th>75%</th>\n",
       "      <td>8.813129e+06</td>\n",
       "      <td>15.780000</td>\n",
       "      <td>21.800000</td>\n",
       "      <td>104.100000</td>\n",
       "      <td>782.700000</td>\n",
       "      <td>0.105300</td>\n",
       "      <td>0.130400</td>\n",
       "      <td>0.130700</td>\n",
       "      <td>0.074000</td>\n",
       "      <td>0.195700</td>\n",
       "      <td>...</td>\n",
       "      <td>18.790000</td>\n",
       "      <td>29.720000</td>\n",
       "      <td>125.400000</td>\n",
       "      <td>1084.000000</td>\n",
       "      <td>0.146000</td>\n",
       "      <td>0.339100</td>\n",
       "      <td>0.382900</td>\n",
       "      <td>0.161400</td>\n",
       "      <td>0.317900</td>\n",
       "      <td>0.092080</td>\n",
       "    </tr>\n",
       "    <tr>\n",
       "      <th>max</th>\n",
       "      <td>9.113205e+08</td>\n",
       "      <td>28.110000</td>\n",
       "      <td>39.280000</td>\n",
       "      <td>188.500000</td>\n",
       "      <td>2501.000000</td>\n",
       "      <td>0.163400</td>\n",
       "      <td>0.345400</td>\n",
       "      <td>0.426800</td>\n",
       "      <td>0.201200</td>\n",
       "      <td>0.304000</td>\n",
       "      <td>...</td>\n",
       "      <td>36.040000</td>\n",
       "      <td>49.540000</td>\n",
       "      <td>251.200000</td>\n",
       "      <td>4254.000000</td>\n",
       "      <td>0.222600</td>\n",
       "      <td>1.058000</td>\n",
       "      <td>1.252000</td>\n",
       "      <td>0.291000</td>\n",
       "      <td>0.663800</td>\n",
       "      <td>0.207500</td>\n",
       "    </tr>\n",
       "  </tbody>\n",
       "</table>\n",
       "<p>8 rows × 31 columns</p>\n",
       "</div>"
      ],
      "text/plain": [
       "                 id  radius_mean  texture_mean  perimeter_mean    area_mean  \\\n",
       "count  5.690000e+02   569.000000    569.000000      569.000000   569.000000   \n",
       "mean   3.037183e+07    14.127292     19.289649       91.969033   654.889104   \n",
       "std    1.250206e+08     3.524049      4.301036       24.298981   351.914129   \n",
       "min    8.670000e+03     6.981000      9.710000       43.790000   143.500000   \n",
       "25%    8.692180e+05    11.700000     16.170000       75.170000   420.300000   \n",
       "50%    9.060240e+05    13.370000     18.840000       86.240000   551.100000   \n",
       "75%    8.813129e+06    15.780000     21.800000      104.100000   782.700000   \n",
       "max    9.113205e+08    28.110000     39.280000      188.500000  2501.000000   \n",
       "\n",
       "       smoothness_mean  compactness_mean  concavity_mean  concave points_mean  \\\n",
       "count       569.000000        569.000000      569.000000           569.000000   \n",
       "mean          0.096360          0.104341        0.088799             0.048919   \n",
       "std           0.014064          0.052813        0.079720             0.038803   \n",
       "min           0.052630          0.019380        0.000000             0.000000   \n",
       "25%           0.086370          0.064920        0.029560             0.020310   \n",
       "50%           0.095870          0.092630        0.061540             0.033500   \n",
       "75%           0.105300          0.130400        0.130700             0.074000   \n",
       "max           0.163400          0.345400        0.426800             0.201200   \n",
       "\n",
       "       symmetry_mean  ...  radius_worst  texture_worst  perimeter_worst  \\\n",
       "count     569.000000  ...    569.000000     569.000000       569.000000   \n",
       "mean        0.181162  ...     16.269190      25.677223       107.261213   \n",
       "std         0.027414  ...      4.833242       6.146258        33.602542   \n",
       "min         0.106000  ...      7.930000      12.020000        50.410000   \n",
       "25%         0.161900  ...     13.010000      21.080000        84.110000   \n",
       "50%         0.179200  ...     14.970000      25.410000        97.660000   \n",
       "75%         0.195700  ...     18.790000      29.720000       125.400000   \n",
       "max         0.304000  ...     36.040000      49.540000       251.200000   \n",
       "\n",
       "        area_worst  smoothness_worst  compactness_worst  concavity_worst  \\\n",
       "count   569.000000        569.000000         569.000000       569.000000   \n",
       "mean    880.583128          0.132369           0.254265         0.272188   \n",
       "std     569.356993          0.022832           0.157336         0.208624   \n",
       "min     185.200000          0.071170           0.027290         0.000000   \n",
       "25%     515.300000          0.116600           0.147200         0.114500   \n",
       "50%     686.500000          0.131300           0.211900         0.226700   \n",
       "75%    1084.000000          0.146000           0.339100         0.382900   \n",
       "max    4254.000000          0.222600           1.058000         1.252000   \n",
       "\n",
       "       concave points_worst  symmetry_worst  fractal_dimension_worst  \n",
       "count            569.000000      569.000000               569.000000  \n",
       "mean               0.114606        0.290076                 0.083946  \n",
       "std                0.065732        0.061867                 0.018061  \n",
       "min                0.000000        0.156500                 0.055040  \n",
       "25%                0.064930        0.250400                 0.071460  \n",
       "50%                0.099930        0.282200                 0.080040  \n",
       "75%                0.161400        0.317900                 0.092080  \n",
       "max                0.291000        0.663800                 0.207500  \n",
       "\n",
       "[8 rows x 31 columns]"
      ]
     },
     "execution_count": 4,
     "metadata": {},
     "output_type": "execute_result"
    }
   ],
   "source": [
    "data.describe()"
   ]
  },
  {
   "cell_type": "code",
   "execution_count": 5,
   "metadata": {
    "colab": {
     "base_uri": "https://localhost:8080/",
     "height": 273
    },
    "id": "v16aNLS1JFsv",
    "outputId": "b3400079-bb81-4bbe-98c7-5aca589e4688"
   },
   "outputs": [
    {
     "data": {
      "text/html": [
       "<div>\n",
       "<style scoped>\n",
       "    .dataframe tbody tr th:only-of-type {\n",
       "        vertical-align: middle;\n",
       "    }\n",
       "\n",
       "    .dataframe tbody tr th {\n",
       "        vertical-align: top;\n",
       "    }\n",
       "\n",
       "    .dataframe thead th {\n",
       "        text-align: right;\n",
       "    }\n",
       "</style>\n",
       "<table border=\"1\" class=\"dataframe\">\n",
       "  <thead>\n",
       "    <tr style=\"text-align: right;\">\n",
       "      <th></th>\n",
       "      <th>id</th>\n",
       "      <th>diagnosis</th>\n",
       "      <th>radius_mean</th>\n",
       "      <th>texture_mean</th>\n",
       "      <th>perimeter_mean</th>\n",
       "      <th>area_mean</th>\n",
       "      <th>smoothness_mean</th>\n",
       "      <th>compactness_mean</th>\n",
       "      <th>concavity_mean</th>\n",
       "      <th>concave points_mean</th>\n",
       "      <th>...</th>\n",
       "      <th>radius_worst</th>\n",
       "      <th>texture_worst</th>\n",
       "      <th>perimeter_worst</th>\n",
       "      <th>area_worst</th>\n",
       "      <th>smoothness_worst</th>\n",
       "      <th>compactness_worst</th>\n",
       "      <th>concavity_worst</th>\n",
       "      <th>concave points_worst</th>\n",
       "      <th>symmetry_worst</th>\n",
       "      <th>fractal_dimension_worst</th>\n",
       "    </tr>\n",
       "  </thead>\n",
       "  <tbody>\n",
       "    <tr>\n",
       "      <th>0</th>\n",
       "      <td>842302</td>\n",
       "      <td>M</td>\n",
       "      <td>17.99</td>\n",
       "      <td>10.38</td>\n",
       "      <td>122.80</td>\n",
       "      <td>1001.0</td>\n",
       "      <td>0.11840</td>\n",
       "      <td>0.27760</td>\n",
       "      <td>0.3001</td>\n",
       "      <td>0.14710</td>\n",
       "      <td>...</td>\n",
       "      <td>25.38</td>\n",
       "      <td>17.33</td>\n",
       "      <td>184.60</td>\n",
       "      <td>2019.0</td>\n",
       "      <td>0.1622</td>\n",
       "      <td>0.6656</td>\n",
       "      <td>0.7119</td>\n",
       "      <td>0.2654</td>\n",
       "      <td>0.4601</td>\n",
       "      <td>0.11890</td>\n",
       "    </tr>\n",
       "    <tr>\n",
       "      <th>1</th>\n",
       "      <td>842517</td>\n",
       "      <td>M</td>\n",
       "      <td>20.57</td>\n",
       "      <td>17.77</td>\n",
       "      <td>132.90</td>\n",
       "      <td>1326.0</td>\n",
       "      <td>0.08474</td>\n",
       "      <td>0.07864</td>\n",
       "      <td>0.0869</td>\n",
       "      <td>0.07017</td>\n",
       "      <td>...</td>\n",
       "      <td>24.99</td>\n",
       "      <td>23.41</td>\n",
       "      <td>158.80</td>\n",
       "      <td>1956.0</td>\n",
       "      <td>0.1238</td>\n",
       "      <td>0.1866</td>\n",
       "      <td>0.2416</td>\n",
       "      <td>0.1860</td>\n",
       "      <td>0.2750</td>\n",
       "      <td>0.08902</td>\n",
       "    </tr>\n",
       "    <tr>\n",
       "      <th>2</th>\n",
       "      <td>84300903</td>\n",
       "      <td>M</td>\n",
       "      <td>19.69</td>\n",
       "      <td>21.25</td>\n",
       "      <td>130.00</td>\n",
       "      <td>1203.0</td>\n",
       "      <td>0.10960</td>\n",
       "      <td>0.15990</td>\n",
       "      <td>0.1974</td>\n",
       "      <td>0.12790</td>\n",
       "      <td>...</td>\n",
       "      <td>23.57</td>\n",
       "      <td>25.53</td>\n",
       "      <td>152.50</td>\n",
       "      <td>1709.0</td>\n",
       "      <td>0.1444</td>\n",
       "      <td>0.4245</td>\n",
       "      <td>0.4504</td>\n",
       "      <td>0.2430</td>\n",
       "      <td>0.3613</td>\n",
       "      <td>0.08758</td>\n",
       "    </tr>\n",
       "    <tr>\n",
       "      <th>3</th>\n",
       "      <td>84348301</td>\n",
       "      <td>NaN</td>\n",
       "      <td>11.42</td>\n",
       "      <td>20.38</td>\n",
       "      <td>77.58</td>\n",
       "      <td>386.1</td>\n",
       "      <td>0.14250</td>\n",
       "      <td>0.28390</td>\n",
       "      <td>0.2414</td>\n",
       "      <td>0.10520</td>\n",
       "      <td>...</td>\n",
       "      <td>14.91</td>\n",
       "      <td>26.50</td>\n",
       "      <td>98.87</td>\n",
       "      <td>567.7</td>\n",
       "      <td>0.2098</td>\n",
       "      <td>0.8663</td>\n",
       "      <td>0.6869</td>\n",
       "      <td>0.2575</td>\n",
       "      <td>0.6638</td>\n",
       "      <td>0.17300</td>\n",
       "    </tr>\n",
       "    <tr>\n",
       "      <th>4</th>\n",
       "      <td>84358402</td>\n",
       "      <td>M</td>\n",
       "      <td>20.29</td>\n",
       "      <td>14.34</td>\n",
       "      <td>135.10</td>\n",
       "      <td>1297.0</td>\n",
       "      <td>0.10030</td>\n",
       "      <td>0.13280</td>\n",
       "      <td>0.1980</td>\n",
       "      <td>0.10430</td>\n",
       "      <td>...</td>\n",
       "      <td>22.54</td>\n",
       "      <td>16.67</td>\n",
       "      <td>152.20</td>\n",
       "      <td>1575.0</td>\n",
       "      <td>0.1374</td>\n",
       "      <td>0.2050</td>\n",
       "      <td>0.4000</td>\n",
       "      <td>0.1625</td>\n",
       "      <td>0.2364</td>\n",
       "      <td>0.07678</td>\n",
       "    </tr>\n",
       "  </tbody>\n",
       "</table>\n",
       "<p>5 rows × 32 columns</p>\n",
       "</div>"
      ],
      "text/plain": [
       "         id diagnosis  radius_mean  texture_mean  perimeter_mean  area_mean  \\\n",
       "0    842302         M        17.99         10.38          122.80     1001.0   \n",
       "1    842517         M        20.57         17.77          132.90     1326.0   \n",
       "2  84300903         M        19.69         21.25          130.00     1203.0   \n",
       "3  84348301       NaN        11.42         20.38           77.58      386.1   \n",
       "4  84358402         M        20.29         14.34          135.10     1297.0   \n",
       "\n",
       "   smoothness_mean  compactness_mean  concavity_mean  concave points_mean  \\\n",
       "0          0.11840           0.27760          0.3001              0.14710   \n",
       "1          0.08474           0.07864          0.0869              0.07017   \n",
       "2          0.10960           0.15990          0.1974              0.12790   \n",
       "3          0.14250           0.28390          0.2414              0.10520   \n",
       "4          0.10030           0.13280          0.1980              0.10430   \n",
       "\n",
       "   ...  radius_worst  texture_worst  perimeter_worst  area_worst  \\\n",
       "0  ...         25.38          17.33           184.60      2019.0   \n",
       "1  ...         24.99          23.41           158.80      1956.0   \n",
       "2  ...         23.57          25.53           152.50      1709.0   \n",
       "3  ...         14.91          26.50            98.87       567.7   \n",
       "4  ...         22.54          16.67           152.20      1575.0   \n",
       "\n",
       "   smoothness_worst  compactness_worst  concavity_worst  concave points_worst  \\\n",
       "0            0.1622             0.6656           0.7119                0.2654   \n",
       "1            0.1238             0.1866           0.2416                0.1860   \n",
       "2            0.1444             0.4245           0.4504                0.2430   \n",
       "3            0.2098             0.8663           0.6869                0.2575   \n",
       "4            0.1374             0.2050           0.4000                0.1625   \n",
       "\n",
       "   symmetry_worst  fractal_dimension_worst  \n",
       "0          0.4601                  0.11890  \n",
       "1          0.2750                  0.08902  \n",
       "2          0.3613                  0.08758  \n",
       "3          0.6638                  0.17300  \n",
       "4          0.2364                  0.07678  \n",
       "\n",
       "[5 rows x 32 columns]"
      ]
     },
     "execution_count": 5,
     "metadata": {},
     "output_type": "execute_result"
    }
   ],
   "source": [
    "data.head()"
   ]
  },
  {
   "cell_type": "code",
   "execution_count": 6,
   "metadata": {
    "colab": {
     "base_uri": "https://localhost:8080/",
     "height": 273
    },
    "id": "71OMnhoKJJPD",
    "outputId": "b6aa86f2-234f-4533-c597-f96a36c04550"
   },
   "outputs": [
    {
     "data": {
      "text/html": [
       "<div>\n",
       "<style scoped>\n",
       "    .dataframe tbody tr th:only-of-type {\n",
       "        vertical-align: middle;\n",
       "    }\n",
       "\n",
       "    .dataframe tbody tr th {\n",
       "        vertical-align: top;\n",
       "    }\n",
       "\n",
       "    .dataframe thead th {\n",
       "        text-align: right;\n",
       "    }\n",
       "</style>\n",
       "<table border=\"1\" class=\"dataframe\">\n",
       "  <thead>\n",
       "    <tr style=\"text-align: right;\">\n",
       "      <th></th>\n",
       "      <th>id</th>\n",
       "      <th>diagnosis</th>\n",
       "      <th>radius_mean</th>\n",
       "      <th>texture_mean</th>\n",
       "      <th>perimeter_mean</th>\n",
       "      <th>area_mean</th>\n",
       "      <th>smoothness_mean</th>\n",
       "      <th>compactness_mean</th>\n",
       "      <th>concavity_mean</th>\n",
       "      <th>concave points_mean</th>\n",
       "      <th>...</th>\n",
       "      <th>radius_worst</th>\n",
       "      <th>texture_worst</th>\n",
       "      <th>perimeter_worst</th>\n",
       "      <th>area_worst</th>\n",
       "      <th>smoothness_worst</th>\n",
       "      <th>compactness_worst</th>\n",
       "      <th>concavity_worst</th>\n",
       "      <th>concave points_worst</th>\n",
       "      <th>symmetry_worst</th>\n",
       "      <th>fractal_dimension_worst</th>\n",
       "    </tr>\n",
       "  </thead>\n",
       "  <tbody>\n",
       "    <tr>\n",
       "      <th>564</th>\n",
       "      <td>926424</td>\n",
       "      <td>M</td>\n",
       "      <td>21.56</td>\n",
       "      <td>22.39</td>\n",
       "      <td>142.00</td>\n",
       "      <td>1479.0</td>\n",
       "      <td>0.11100</td>\n",
       "      <td>0.11590</td>\n",
       "      <td>0.24390</td>\n",
       "      <td>0.13890</td>\n",
       "      <td>...</td>\n",
       "      <td>25.450</td>\n",
       "      <td>26.40</td>\n",
       "      <td>166.10</td>\n",
       "      <td>2027.0</td>\n",
       "      <td>0.14100</td>\n",
       "      <td>0.21130</td>\n",
       "      <td>0.4107</td>\n",
       "      <td>0.2216</td>\n",
       "      <td>0.2060</td>\n",
       "      <td>0.07115</td>\n",
       "    </tr>\n",
       "    <tr>\n",
       "      <th>565</th>\n",
       "      <td>926682</td>\n",
       "      <td>M</td>\n",
       "      <td>20.13</td>\n",
       "      <td>28.25</td>\n",
       "      <td>131.20</td>\n",
       "      <td>1261.0</td>\n",
       "      <td>0.09780</td>\n",
       "      <td>0.10340</td>\n",
       "      <td>0.14400</td>\n",
       "      <td>0.09791</td>\n",
       "      <td>...</td>\n",
       "      <td>23.690</td>\n",
       "      <td>38.25</td>\n",
       "      <td>155.00</td>\n",
       "      <td>1731.0</td>\n",
       "      <td>0.11660</td>\n",
       "      <td>0.19220</td>\n",
       "      <td>0.3215</td>\n",
       "      <td>0.1628</td>\n",
       "      <td>0.2572</td>\n",
       "      <td>0.06637</td>\n",
       "    </tr>\n",
       "    <tr>\n",
       "      <th>566</th>\n",
       "      <td>926954</td>\n",
       "      <td>M</td>\n",
       "      <td>16.60</td>\n",
       "      <td>28.08</td>\n",
       "      <td>108.30</td>\n",
       "      <td>858.1</td>\n",
       "      <td>0.08455</td>\n",
       "      <td>0.10230</td>\n",
       "      <td>0.09251</td>\n",
       "      <td>0.05302</td>\n",
       "      <td>...</td>\n",
       "      <td>18.980</td>\n",
       "      <td>34.12</td>\n",
       "      <td>126.70</td>\n",
       "      <td>1124.0</td>\n",
       "      <td>0.11390</td>\n",
       "      <td>0.30940</td>\n",
       "      <td>0.3403</td>\n",
       "      <td>0.1418</td>\n",
       "      <td>0.2218</td>\n",
       "      <td>0.07820</td>\n",
       "    </tr>\n",
       "    <tr>\n",
       "      <th>567</th>\n",
       "      <td>927241</td>\n",
       "      <td>M</td>\n",
       "      <td>20.60</td>\n",
       "      <td>29.33</td>\n",
       "      <td>140.10</td>\n",
       "      <td>1265.0</td>\n",
       "      <td>0.11780</td>\n",
       "      <td>0.27700</td>\n",
       "      <td>0.35140</td>\n",
       "      <td>0.15200</td>\n",
       "      <td>...</td>\n",
       "      <td>25.740</td>\n",
       "      <td>39.42</td>\n",
       "      <td>184.60</td>\n",
       "      <td>1821.0</td>\n",
       "      <td>0.16500</td>\n",
       "      <td>0.86810</td>\n",
       "      <td>0.9387</td>\n",
       "      <td>0.2650</td>\n",
       "      <td>0.4087</td>\n",
       "      <td>0.12400</td>\n",
       "    </tr>\n",
       "    <tr>\n",
       "      <th>568</th>\n",
       "      <td>92751</td>\n",
       "      <td>B</td>\n",
       "      <td>7.76</td>\n",
       "      <td>24.54</td>\n",
       "      <td>47.92</td>\n",
       "      <td>181.0</td>\n",
       "      <td>0.05263</td>\n",
       "      <td>0.04362</td>\n",
       "      <td>0.00000</td>\n",
       "      <td>0.00000</td>\n",
       "      <td>...</td>\n",
       "      <td>9.456</td>\n",
       "      <td>30.37</td>\n",
       "      <td>59.16</td>\n",
       "      <td>268.6</td>\n",
       "      <td>0.08996</td>\n",
       "      <td>0.06444</td>\n",
       "      <td>0.0000</td>\n",
       "      <td>0.0000</td>\n",
       "      <td>0.2871</td>\n",
       "      <td>0.07039</td>\n",
       "    </tr>\n",
       "  </tbody>\n",
       "</table>\n",
       "<p>5 rows × 32 columns</p>\n",
       "</div>"
      ],
      "text/plain": [
       "         id diagnosis  radius_mean  texture_mean  perimeter_mean  area_mean  \\\n",
       "564  926424         M        21.56         22.39          142.00     1479.0   \n",
       "565  926682         M        20.13         28.25          131.20     1261.0   \n",
       "566  926954         M        16.60         28.08          108.30      858.1   \n",
       "567  927241         M        20.60         29.33          140.10     1265.0   \n",
       "568   92751         B         7.76         24.54           47.92      181.0   \n",
       "\n",
       "     smoothness_mean  compactness_mean  concavity_mean  concave points_mean  \\\n",
       "564          0.11100           0.11590         0.24390              0.13890   \n",
       "565          0.09780           0.10340         0.14400              0.09791   \n",
       "566          0.08455           0.10230         0.09251              0.05302   \n",
       "567          0.11780           0.27700         0.35140              0.15200   \n",
       "568          0.05263           0.04362         0.00000              0.00000   \n",
       "\n",
       "     ...  radius_worst  texture_worst  perimeter_worst  area_worst  \\\n",
       "564  ...        25.450          26.40           166.10      2027.0   \n",
       "565  ...        23.690          38.25           155.00      1731.0   \n",
       "566  ...        18.980          34.12           126.70      1124.0   \n",
       "567  ...        25.740          39.42           184.60      1821.0   \n",
       "568  ...         9.456          30.37            59.16       268.6   \n",
       "\n",
       "     smoothness_worst  compactness_worst  concavity_worst  \\\n",
       "564           0.14100            0.21130           0.4107   \n",
       "565           0.11660            0.19220           0.3215   \n",
       "566           0.11390            0.30940           0.3403   \n",
       "567           0.16500            0.86810           0.9387   \n",
       "568           0.08996            0.06444           0.0000   \n",
       "\n",
       "     concave points_worst  symmetry_worst  fractal_dimension_worst  \n",
       "564                0.2216          0.2060                  0.07115  \n",
       "565                0.1628          0.2572                  0.06637  \n",
       "566                0.1418          0.2218                  0.07820  \n",
       "567                0.2650          0.4087                  0.12400  \n",
       "568                0.0000          0.2871                  0.07039  \n",
       "\n",
       "[5 rows x 32 columns]"
      ]
     },
     "execution_count": 6,
     "metadata": {},
     "output_type": "execute_result"
    }
   ],
   "source": [
    "data.tail()"
   ]
  },
  {
   "cell_type": "code",
   "execution_count": 7,
   "metadata": {
    "colab": {
     "base_uri": "https://localhost:8080/"
    },
    "id": "R1GBtoHzpVx6",
    "outputId": "5f6062b3-1bae-4311-ca78-44443aa22f0e"
   },
   "outputs": [
    {
     "data": {
      "text/plain": [
       "(569, 32)"
      ]
     },
     "execution_count": 7,
     "metadata": {},
     "output_type": "execute_result"
    }
   ],
   "source": [
    "data.shape"
   ]
  },
  {
   "cell_type": "code",
   "execution_count": 8,
   "metadata": {
    "colab": {
     "base_uri": "https://localhost:8080/"
    },
    "id": "mcNRI9hiJLzn",
    "outputId": "fab48c4a-8bc3-4f2f-b68f-055efa78cae8"
   },
   "outputs": [
    {
     "data": {
      "text/plain": [
       "<bound method NDFrame._add_numeric_operations.<locals>.sum of         id  diagnosis  radius_mean  texture_mean  perimeter_mean  area_mean  \\\n",
       "0    False      False        False         False           False      False   \n",
       "1    False      False        False         False           False      False   \n",
       "2    False      False        False         False           False      False   \n",
       "3    False       True        False         False           False      False   \n",
       "4    False      False        False         False           False      False   \n",
       "..     ...        ...          ...           ...             ...        ...   \n",
       "564  False      False        False         False           False      False   \n",
       "565  False      False        False         False           False      False   \n",
       "566  False      False        False         False           False      False   \n",
       "567  False      False        False         False           False      False   \n",
       "568  False      False        False         False           False      False   \n",
       "\n",
       "     smoothness_mean  compactness_mean  concavity_mean  concave points_mean  \\\n",
       "0              False             False           False                False   \n",
       "1              False             False           False                False   \n",
       "2              False             False           False                False   \n",
       "3              False             False           False                False   \n",
       "4              False             False           False                False   \n",
       "..               ...               ...             ...                  ...   \n",
       "564            False             False           False                False   \n",
       "565            False             False           False                False   \n",
       "566            False             False           False                False   \n",
       "567            False             False           False                False   \n",
       "568            False             False           False                False   \n",
       "\n",
       "     ...  radius_worst  texture_worst  perimeter_worst  area_worst  \\\n",
       "0    ...         False          False            False       False   \n",
       "1    ...         False          False            False       False   \n",
       "2    ...         False          False            False       False   \n",
       "3    ...         False          False            False       False   \n",
       "4    ...         False          False            False       False   \n",
       "..   ...           ...            ...              ...         ...   \n",
       "564  ...         False          False            False       False   \n",
       "565  ...         False          False            False       False   \n",
       "566  ...         False          False            False       False   \n",
       "567  ...         False          False            False       False   \n",
       "568  ...         False          False            False       False   \n",
       "\n",
       "     smoothness_worst  compactness_worst  concavity_worst  \\\n",
       "0               False              False            False   \n",
       "1               False              False            False   \n",
       "2               False              False            False   \n",
       "3               False              False            False   \n",
       "4               False              False            False   \n",
       "..                ...                ...              ...   \n",
       "564             False              False            False   \n",
       "565             False              False            False   \n",
       "566             False              False            False   \n",
       "567             False              False            False   \n",
       "568             False              False            False   \n",
       "\n",
       "     concave points_worst  symmetry_worst  fractal_dimension_worst  \n",
       "0                   False           False                    False  \n",
       "1                   False           False                    False  \n",
       "2                   False           False                    False  \n",
       "3                   False           False                    False  \n",
       "4                   False           False                    False  \n",
       "..                    ...             ...                      ...  \n",
       "564                 False           False                    False  \n",
       "565                 False           False                    False  \n",
       "566                 False           False                    False  \n",
       "567                 False           False                    False  \n",
       "568                 False           False                    False  \n",
       "\n",
       "[569 rows x 32 columns]>"
      ]
     },
     "execution_count": 8,
     "metadata": {},
     "output_type": "execute_result"
    }
   ],
   "source": [
    "data.isnull().sum"
   ]
  },
  {
   "cell_type": "code",
   "execution_count": 9,
   "metadata": {
    "colab": {
     "base_uri": "https://localhost:8080/",
     "height": 461
    },
    "id": "Lz-Vpmq7JUdb",
    "outputId": "65bf9170-cb61-49b1-9c51-0753259dc97e"
   },
   "outputs": [
    {
     "data": {
      "text/html": [
       "<div>\n",
       "<style scoped>\n",
       "    .dataframe tbody tr th:only-of-type {\n",
       "        vertical-align: middle;\n",
       "    }\n",
       "\n",
       "    .dataframe tbody tr th {\n",
       "        vertical-align: top;\n",
       "    }\n",
       "\n",
       "    .dataframe thead th {\n",
       "        text-align: right;\n",
       "    }\n",
       "</style>\n",
       "<table border=\"1\" class=\"dataframe\">\n",
       "  <thead>\n",
       "    <tr style=\"text-align: right;\">\n",
       "      <th></th>\n",
       "      <th>id</th>\n",
       "      <th>diagnosis</th>\n",
       "      <th>radius_mean</th>\n",
       "      <th>texture_mean</th>\n",
       "      <th>perimeter_mean</th>\n",
       "      <th>area_mean</th>\n",
       "      <th>smoothness_mean</th>\n",
       "      <th>compactness_mean</th>\n",
       "      <th>concavity_mean</th>\n",
       "      <th>concave points_mean</th>\n",
       "      <th>...</th>\n",
       "      <th>radius_worst</th>\n",
       "      <th>texture_worst</th>\n",
       "      <th>perimeter_worst</th>\n",
       "      <th>area_worst</th>\n",
       "      <th>smoothness_worst</th>\n",
       "      <th>compactness_worst</th>\n",
       "      <th>concavity_worst</th>\n",
       "      <th>concave points_worst</th>\n",
       "      <th>symmetry_worst</th>\n",
       "      <th>fractal_dimension_worst</th>\n",
       "    </tr>\n",
       "  </thead>\n",
       "  <tbody>\n",
       "    <tr>\n",
       "      <th>3</th>\n",
       "      <td>84348301</td>\n",
       "      <td>NaN</td>\n",
       "      <td>11.42</td>\n",
       "      <td>20.38</td>\n",
       "      <td>77.58</td>\n",
       "      <td>386.1</td>\n",
       "      <td>0.14250</td>\n",
       "      <td>0.28390</td>\n",
       "      <td>0.24140</td>\n",
       "      <td>0.10520</td>\n",
       "      <td>...</td>\n",
       "      <td>14.91</td>\n",
       "      <td>26.50</td>\n",
       "      <td>98.87</td>\n",
       "      <td>567.7</td>\n",
       "      <td>0.2098</td>\n",
       "      <td>0.8663</td>\n",
       "      <td>0.6869</td>\n",
       "      <td>0.25750</td>\n",
       "      <td>0.6638</td>\n",
       "      <td>0.17300</td>\n",
       "    </tr>\n",
       "    <tr>\n",
       "      <th>10</th>\n",
       "      <td>845636</td>\n",
       "      <td>NaN</td>\n",
       "      <td>16.02</td>\n",
       "      <td>23.24</td>\n",
       "      <td>102.70</td>\n",
       "      <td>797.8</td>\n",
       "      <td>0.08206</td>\n",
       "      <td>0.06669</td>\n",
       "      <td>0.03299</td>\n",
       "      <td>0.03323</td>\n",
       "      <td>...</td>\n",
       "      <td>19.19</td>\n",
       "      <td>33.88</td>\n",
       "      <td>123.80</td>\n",
       "      <td>1150.0</td>\n",
       "      <td>0.1181</td>\n",
       "      <td>0.1551</td>\n",
       "      <td>0.1459</td>\n",
       "      <td>0.09975</td>\n",
       "      <td>0.2948</td>\n",
       "      <td>0.08452</td>\n",
       "    </tr>\n",
       "  </tbody>\n",
       "</table>\n",
       "<p>2 rows × 32 columns</p>\n",
       "</div>"
      ],
      "text/plain": [
       "          id diagnosis  radius_mean  texture_mean  perimeter_mean  area_mean  \\\n",
       "3   84348301       NaN        11.42         20.38           77.58      386.1   \n",
       "10    845636       NaN        16.02         23.24          102.70      797.8   \n",
       "\n",
       "    smoothness_mean  compactness_mean  concavity_mean  concave points_mean  \\\n",
       "3           0.14250           0.28390         0.24140              0.10520   \n",
       "10          0.08206           0.06669         0.03299              0.03323   \n",
       "\n",
       "    ...  radius_worst  texture_worst  perimeter_worst  area_worst  \\\n",
       "3   ...         14.91          26.50            98.87       567.7   \n",
       "10  ...         19.19          33.88           123.80      1150.0   \n",
       "\n",
       "    smoothness_worst  compactness_worst  concavity_worst  \\\n",
       "3             0.2098             0.8663           0.6869   \n",
       "10            0.1181             0.1551           0.1459   \n",
       "\n",
       "    concave points_worst  symmetry_worst  fractal_dimension_worst  \n",
       "3                0.25750          0.6638                  0.17300  \n",
       "10               0.09975          0.2948                  0.08452  \n",
       "\n",
       "[2 rows x 32 columns]"
      ]
     },
     "execution_count": 9,
     "metadata": {},
     "output_type": "execute_result"
    }
   ],
   "source": [
    "data[data.isnull().any(axis=1)]"
   ]
  },
  {
   "cell_type": "code",
   "execution_count": 10,
   "metadata": {
    "colab": {
     "base_uri": "https://localhost:8080/"
    },
    "id": "Cx-twW1KNiq1",
    "outputId": "954864a8-bb01-454d-a90a-b1d1a3e38ccf"
   },
   "outputs": [
    {
     "name": "stdout",
     "output_type": "stream",
     "text": [
      "Number of missing values before filling: 2\n"
     ]
    }
   ],
   "source": [
    "#data['diagnosis'] = pd.to_numeric(data['diagnosis'], errors='coerce')\n",
    "print(\"Number of missing values before filling:\", data.isnull().sum().sum())\n"
   ]
  },
  {
   "cell_type": "code",
   "execution_count": 11,
   "metadata": {
    "id": "xasjXh9QJbuo"
   },
   "outputs": [],
   "source": [
    "data = data.fillna(data.mean())"
   ]
  },
  {
   "cell_type": "code",
   "execution_count": 12,
   "metadata": {
    "colab": {
     "base_uri": "https://localhost:8080/"
    },
    "id": "lUpMqWDJNXAM",
    "outputId": "452ab67d-e989-486b-c687-d0266056cc3f"
   },
   "outputs": [
    {
     "data": {
      "text/plain": [
       "array(['M', nan, 'B'], dtype=object)"
      ]
     },
     "execution_count": 12,
     "metadata": {},
     "output_type": "execute_result"
    }
   ],
   "source": [
    "data['diagnosis'].unique()"
   ]
  },
  {
   "cell_type": "code",
   "execution_count": 13,
   "metadata": {
    "id": "SWHWBKC-OWPM"
   },
   "outputs": [],
   "source": [
    "label_encoder = LabelEncoder()\n",
    "data['diagnosis'] = label_encoder.fit_transform(data['diagnosis'])"
   ]
  },
  {
   "cell_type": "code",
   "execution_count": 15,
   "metadata": {
    "colab": {
     "base_uri": "https://localhost:8080/"
    },
    "id": "eD2wEkTFKkfs",
    "outputId": "4af84750-5b87-468b-fbc0-73d027a66d0d"
   },
   "outputs": [
    {
     "data": {
      "text/plain": [
       "Index(['radius_mean', 'texture_mean', 'perimeter_mean', 'area_mean',\n",
       "       'smoothness_mean', 'compactness_mean', 'concavity_mean',\n",
       "       'concave points_mean', 'symmetry_mean', 'fractal_dimension_mean',\n",
       "       'radius_se', 'texture_se', 'perimeter_se', 'area_se', 'smoothness_se',\n",
       "       'compactness_se', 'concavity_se', 'concave points_se', 'symmetry_se',\n",
       "       'fractal_dimension_se', 'radius_worst', 'texture_worst',\n",
       "       'perimeter_worst', 'area_worst', 'smoothness_worst',\n",
       "       'compactness_worst', 'concavity_worst', 'concave points_worst',\n",
       "       'symmetry_worst', 'fractal_dimension_worst'],\n",
       "      dtype='object')"
      ]
     },
     "execution_count": 15,
     "metadata": {},
     "output_type": "execute_result"
    }
   ],
   "source": [
    "\n",
    "# Split the data into features (x1) and target (y1)\n",
    "y1 = data['diagnosis']\n",
    "x1 = data.drop(['id', 'diagnosis'], axis=1)\n",
    "x1.columns\n"
   ]
  },
  {
   "cell_type": "code",
   "execution_count": 16,
   "metadata": {
    "colab": {
     "base_uri": "https://localhost:8080/"
    },
    "id": "MoW7b5JIU0mF",
    "outputId": "5c036396-9760-4a20-95b8-77fd32f1f1a4"
   },
   "outputs": [
    {
     "name": "stdout",
     "output_type": "stream",
     "text": [
      "Number of samples after filling missing values: 569\n"
     ]
    }
   ],
   "source": [
    "# Check the size of your dataset after filling missing values\n",
    "print(\"Number of samples after filling missing values:\", len(data))\n"
   ]
  },
  {
   "cell_type": "code",
   "execution_count": 17,
   "metadata": {
    "colab": {
     "base_uri": "https://localhost:8080/",
     "height": 428
    },
    "id": "HUi_cO8Dp-Et",
    "outputId": "299a766f-d5d0-4ace-882b-70a5c907c80c"
   },
   "outputs": [
    {
     "data": {
      "image/png": "[encoded data removed]",
      "text/plain": [
       "<Figure size 640x480 with 1 Axes>"
      ]
     },
     "metadata": {},
     "output_type": "display_data"
    }
   ],
   "source": [
    "diagnosis_counts = data['diagnosis'].value_counts()\n",
    "plt.pie(diagnosis_counts, labels=diagnosis_counts.index, autopct='%1.1f%%', startangle=90)\n",
    "plt.title('Pie Chart of Diagnosis')\n",
    "plt.show()"
   ]
  },
  {
   "cell_type": "code",
   "execution_count": 18,
   "metadata": {
    "colab": {
     "base_uri": "https://localhost:8080/",
     "height": 449
    },
    "id": "zJdpEDjRU5bW",
    "outputId": "c2b2a92f-420e-4dec-c530-e4aa7f895d8c"
   },
   "outputs": [
    {
     "data": {
      "image/png": "[encoded data removed]",
      "text/plain": [
       "<Figure size 640x480 with 1 Axes>"
      ]
     },
     "metadata": {},
     "output_type": "display_data"
    }
   ],
   "source": [
    "sns.countplot(x='diagnosis', data=data)\n",
    "plt.show()\n"
   ]
  },
  {
   "cell_type": "code",
   "execution_count": 20,
   "metadata": {
    "colab": {
     "base_uri": "https://localhost:8080/"
    },
    "id": "QQsgUEB2qlas",
    "outputId": "a117b87c-373f-4225-95ca-25bd1d607dff"
   },
   "outputs": [
    {
     "name": "stdout",
     "output_type": "stream",
     "text": [
      "Number of removed outliers: 0\n"
     ]
    }
   ],
   "source": [
    "#Outliers detection and removal using Z- Score\n",
    "\n",
    "# Extract numerical columns for outlier detection\n",
    "numerical_cols = data.select_dtypes(include=['float64']).columns\n",
    "\n",
    "# Calculate Z-scores for the numerical columns\n",
    "z_scores = stats.zscore(data[numerical_cols])\n",
    "\n",
    "# Set a threshold\n",
    "threshold = 3\n",
    "\n",
    "# Identify outliers\n",
    "outliers = (abs(z_scores) > threshold).all(axis=1)\n",
    "\n",
    "# Remove outliers from the DataFrame\n",
    "df_no_outliers = data[~outliers]\n",
    "\n",
    "# Show information about removed outliers\n",
    "removed_outliers_count = sum(outliers)\n",
    "print(f\"Number of removed outliers: {removed_outliers_count}\")"
   ]
  },
  {
   "cell_type": "code",
   "execution_count": 21,
   "metadata": {
    "colab": {
     "base_uri": "https://localhost:8080/"
    },
    "id": "LDV8tcyCsMuN",
    "outputId": "c4107303-59d2-4e8f-ff24-3224f0265016"
   },
   "outputs": [
    {
     "name": "stdout",
     "output_type": "stream",
     "text": [
      "                               id  diagnosis  radius_mean  texture_mean  \\\n",
      "id                       1.000000   0.039812     0.074626      0.099770   \n",
      "diagnosis                0.039812   1.000000     0.717150      0.412525   \n",
      "radius_mean              0.074626   0.717150     1.000000      0.323782   \n",
      "texture_mean             0.099770   0.412525     0.323782      1.000000   \n",
      "perimeter_mean           0.073159   0.729838     0.997855      0.329533   \n",
      "area_mean                0.096893   0.696000     0.987357      0.321086   \n",
      "smoothness_mean         -0.012968   0.360741     0.170581     -0.023389   \n",
      "compactness_mean         0.000096   0.596301     0.506124      0.236702   \n",
      "concavity_mean           0.050080   0.689209     0.676764      0.302418   \n",
      "concave points_mean      0.044158   0.767537     0.822529      0.293464   \n",
      "symmetry_mean           -0.022114   0.331592     0.147741      0.071401   \n",
      "fractal_dimension_mean  -0.052511   0.001977    -0.311631     -0.076437   \n",
      "texture_se              -0.007526  -0.008755    -0.097317      0.386358   \n",
      "perimeter_se             0.137331   0.547277     0.674172      0.281673   \n",
      "area_se                  0.177742   0.538168     0.735864      0.259845   \n",
      "smoothness_se            0.096781  -0.067033    -0.222600      0.006614   \n",
      "compactness_se           0.033961   0.294735     0.206000      0.191975   \n",
      "concavity_se             0.055239   0.249996     0.194204      0.143293   \n",
      "concave points_se        0.078768   0.402854     0.376169      0.163851   \n",
      "symmetry_se             -0.017306   0.007933    -0.104321      0.009127   \n",
      "fractal_dimension_se     0.025725   0.082987    -0.042641      0.054458   \n",
      "radius_worst             0.082405   0.764792     0.969539      0.352573   \n",
      "texture_worst            0.064720   0.454615     0.297008      0.912045   \n",
      "perimeter_worst          0.079986   0.770858     0.965137      0.358040   \n",
      "area_worst               0.107187   0.721438     0.941082      0.343546   \n",
      "smoothness_worst         0.010338   0.424406     0.119616      0.077503   \n",
      "compactness_worst       -0.002968   0.592906     0.413463      0.277830   \n",
      "concavity_worst          0.023203   0.653668     0.526911      0.301025   \n",
      "concave points_worst     0.035174   0.787436     0.744214      0.295316   \n",
      "symmetry_worst          -0.044224   0.431310     0.163953      0.105008   \n",
      "fractal_dimension_worst -0.029866   0.336282     0.007066      0.119205   \n",
      "\n",
      "                         perimeter_mean  area_mean  smoothness_mean  \\\n",
      "id                             0.073159   0.096893        -0.012968   \n",
      "diagnosis                      0.729838   0.696000         0.360741   \n",
      "radius_mean                    0.997855   0.987357         0.170581   \n",
      "texture_mean                   0.329533   0.321086        -0.023389   \n",
      "perimeter_mean                 1.000000   0.986507         0.207278   \n",
      "area_mean                      0.986507   1.000000         0.177028   \n",
      "smoothness_mean                0.207278   0.177028         1.000000   \n",
      "compactness_mean               0.556936   0.498502         0.659123   \n",
      "concavity_mean                 0.716136   0.685983         0.521984   \n",
      "concave points_mean            0.850977   0.823269         0.553695   \n",
      "symmetry_mean                  0.183027   0.151293         0.557775   \n",
      "fractal_dimension_mean        -0.261477  -0.283110         0.584792   \n",
      "texture_se                    -0.086761  -0.066280         0.068406   \n",
      "perimeter_se                   0.693135   0.726628         0.296092   \n",
      "area_se                        0.744983   0.800086         0.246552   \n",
      "smoothness_se                 -0.202694  -0.166777         0.332375   \n",
      "compactness_se                 0.250744   0.212583         0.318943   \n",
      "concavity_se                   0.228082   0.207660         0.248396   \n",
      "concave points_se              0.407217   0.372320         0.380676   \n",
      "symmetry_se                   -0.081629  -0.072497         0.200774   \n",
      "fractal_dimension_se          -0.005523  -0.019887         0.283607   \n",
      "radius_worst                   0.969476   0.962746         0.213120   \n",
      "texture_worst                  0.303038   0.287489         0.036072   \n",
      "perimeter_worst                0.970387   0.959120         0.238853   \n",
      "area_worst                     0.941550   0.959213         0.206718   \n",
      "smoothness_worst               0.150549   0.123523         0.805324   \n",
      "compactness_worst              0.455774   0.390410         0.472468   \n",
      "concavity_worst                0.563879   0.512606         0.434926   \n",
      "concave points_worst           0.771241   0.722017         0.503053   \n",
      "symmetry_worst                 0.189115   0.143570         0.394309   \n",
      "fractal_dimension_worst        0.051019   0.003738         0.499316   \n",
      "\n",
      "                         compactness_mean  concavity_mean  \\\n",
      "id                               0.000096        0.050080   \n",
      "diagnosis                        0.596301        0.689209   \n",
      "radius_mean                      0.506124        0.676764   \n",
      "texture_mean                     0.236702        0.302418   \n",
      "perimeter_mean                   0.556936        0.716136   \n",
      "area_mean                        0.498502        0.685983   \n",
      "smoothness_mean                  0.659123        0.521984   \n",
      "compactness_mean                 1.000000        0.883121   \n",
      "concavity_mean                   0.883121        1.000000   \n",
      "concave points_mean              0.831135        0.921391   \n",
      "symmetry_mean                    0.602641        0.500667   \n",
      "fractal_dimension_mean           0.565369        0.336783   \n",
      "texture_se                       0.046205        0.076218   \n",
      "perimeter_se                     0.548905        0.660391   \n",
      "area_se                          0.455653        0.617427   \n",
      "smoothness_se                    0.135299        0.098564   \n",
      "compactness_se                   0.738722        0.670279   \n",
      "concavity_se                     0.570517        0.691270   \n",
      "concave points_se                0.642262        0.683260   \n",
      "symmetry_se                      0.229977        0.178009   \n",
      "fractal_dimension_se             0.507318        0.449301   \n",
      "radius_worst                     0.535315        0.688236   \n",
      "texture_worst                    0.248133        0.299879   \n",
      "perimeter_worst                  0.590210        0.729565   \n",
      "area_worst                       0.509604        0.675987   \n",
      "smoothness_worst                 0.565541        0.448822   \n",
      "compactness_worst                0.865809        0.754968   \n",
      "concavity_worst                  0.816275        0.884103   \n",
      "concave points_worst             0.815573        0.861323   \n",
      "symmetry_worst                   0.510223        0.409464   \n",
      "fractal_dimension_worst          0.687382        0.514930   \n",
      "\n",
      "                         concave points_mean  ...  radius_worst  \\\n",
      "id                                  0.044158  ...      0.082405   \n",
      "diagnosis                           0.767537  ...      0.764792   \n",
      "radius_mean                         0.822529  ...      0.969539   \n",
      "texture_mean                        0.293464  ...      0.352573   \n",
      "perimeter_mean                      0.850977  ...      0.969476   \n",
      "area_mean                           0.823269  ...      0.962746   \n",
      "smoothness_mean                     0.553695  ...      0.213120   \n",
      "compactness_mean                    0.831135  ...      0.535315   \n",
      "concavity_mean                      0.921391  ...      0.688236   \n",
      "concave points_mean                 1.000000  ...      0.830318   \n",
      "symmetry_mean                       0.462497  ...      0.185728   \n",
      "fractal_dimension_mean              0.166917  ...     -0.253691   \n",
      "texture_se                          0.021480  ...     -0.111690   \n",
      "perimeter_se                        0.710650  ...      0.697201   \n",
      "area_se                             0.690299  ...      0.757373   \n",
      "smoothness_se                       0.027653  ...     -0.230691   \n",
      "compactness_se                      0.490424  ...      0.204607   \n",
      "concavity_se                        0.439167  ...      0.186904   \n",
      "concave points_se                   0.615634  ...      0.358127   \n",
      "symmetry_se                         0.095351  ...     -0.128121   \n",
      "fractal_dimension_se                0.257584  ...     -0.037488   \n",
      "radius_worst                        0.830318  ...      1.000000   \n",
      "texture_worst                       0.292752  ...      0.359921   \n",
      "perimeter_worst                     0.855923  ...      0.993708   \n",
      "area_worst                          0.809630  ...      0.984015   \n",
      "smoothness_worst                    0.452753  ...      0.216574   \n",
      "compactness_worst                   0.667454  ...      0.475820   \n",
      "concavity_worst                     0.752399  ...      0.573975   \n",
      "concave points_worst                0.910155  ...      0.787424   \n",
      "symmetry_worst                      0.375744  ...      0.243529   \n",
      "fractal_dimension_worst             0.368661  ...      0.093492   \n",
      "\n",
      "                         texture_worst  perimeter_worst  area_worst  \\\n",
      "id                            0.064720         0.079986    0.107187   \n",
      "diagnosis                     0.454615         0.770858    0.721438   \n",
      "radius_mean                   0.297008         0.965137    0.941082   \n",
      "texture_mean                  0.912045         0.358040    0.343546   \n",
      "perimeter_mean                0.303038         0.970387    0.941550   \n",
      "area_mean                     0.287489         0.959120    0.959213   \n",
      "smoothness_mean               0.036072         0.238853    0.206718   \n",
      "compactness_mean              0.248133         0.590210    0.509604   \n",
      "concavity_mean                0.299879         0.729565    0.675987   \n",
      "concave points_mean           0.292752         0.855923    0.809630   \n",
      "symmetry_mean                 0.090651         0.219169    0.177193   \n",
      "fractal_dimension_mean       -0.051269        -0.205151   -0.231854   \n",
      "texture_se                    0.409003        -0.102242   -0.083195   \n",
      "perimeter_se                  0.200371         0.721031    0.730713   \n",
      "area_se                       0.196497         0.761213    0.811408   \n",
      "smoothness_se                -0.074743        -0.217304   -0.182195   \n",
      "compactness_se                0.143003         0.260516    0.199371   \n",
      "concavity_se                  0.100241         0.226680    0.188353   \n",
      "concave points_se             0.086741         0.394999    0.342271   \n",
      "symmetry_se                  -0.077473        -0.103753   -0.110343   \n",
      "fractal_dimension_se         -0.003195        -0.001000   -0.022736   \n",
      "radius_worst                  0.359921         0.993708    0.984015   \n",
      "texture_worst                 1.000000         0.365098    0.345842   \n",
      "perimeter_worst               0.365098         1.000000    0.977578   \n",
      "area_worst                    0.345842         0.977578    1.000000   \n",
      "smoothness_worst              0.225429         0.236775    0.209145   \n",
      "compactness_worst             0.360832         0.529408    0.438296   \n",
      "concavity_worst               0.368366         0.618344    0.543331   \n",
      "concave points_worst          0.359755         0.816322    0.747419   \n",
      "symmetry_worst                0.233027         0.269493    0.209146   \n",
      "fractal_dimension_worst       0.219122         0.138957    0.079647   \n",
      "\n",
      "                         smoothness_worst  compactness_worst  concavity_worst  \\\n",
      "id                               0.010338          -0.002968         0.023203   \n",
      "diagnosis                        0.424406           0.592906         0.653668   \n",
      "radius_mean                      0.119616           0.413463         0.526911   \n",
      "texture_mean                     0.077503           0.277830         0.301025   \n",
      "perimeter_mean                   0.150549           0.455774         0.563879   \n",
      "area_mean                        0.123523           0.390410         0.512606   \n",
      "smoothness_mean                  0.805324           0.472468         0.434926   \n",
      "compactness_mean                 0.565541           0.865809         0.816275   \n",
      "concavity_mean                   0.448822           0.754968         0.884103   \n",
      "concave points_mean              0.452753           0.667454         0.752399   \n",
      "symmetry_mean                    0.426675           0.473200         0.433721   \n",
      "fractal_dimension_mean           0.504942           0.458798         0.346234   \n",
      "texture_se                      -0.073658          -0.092439        -0.068956   \n",
      "perimeter_se                     0.130054           0.341919         0.418899   \n",
      "area_se                          0.125389           0.283257         0.385100   \n",
      "smoothness_se                    0.314457          -0.055558        -0.058298   \n",
      "compactness_se                   0.227394           0.678780         0.639147   \n",
      "concavity_se                     0.168481           0.484858         0.662564   \n",
      "concave points_se                0.215351           0.452888         0.549592   \n",
      "symmetry_se                     -0.012662           0.060255         0.037119   \n",
      "fractal_dimension_se             0.170568           0.390159         0.379975   \n",
      "radius_worst                     0.216574           0.475820         0.573975   \n",
      "texture_worst                    0.225429           0.360832         0.368366   \n",
      "perimeter_worst                  0.236775           0.529408         0.618344   \n",
      "area_worst                       0.209145           0.438296         0.543331   \n",
      "smoothness_worst                 1.000000           0.568187         0.518523   \n",
      "compactness_worst                0.568187           1.000000         0.892261   \n",
      "concavity_worst                  0.518523           0.892261         1.000000   \n",
      "concave points_worst             0.547691           0.801080         0.855434   \n",
      "symmetry_worst                   0.493838           0.614441         0.532520   \n",
      "fractal_dimension_worst          0.617624           0.810455         0.686511   \n",
      "\n",
      "                         concave points_worst  symmetry_worst  \\\n",
      "id                                   0.035174       -0.044224   \n",
      "diagnosis                            0.787436        0.431310   \n",
      "radius_mean                          0.744214        0.163953   \n",
      "texture_mean                         0.295316        0.105008   \n",
      "perimeter_mean                       0.771241        0.189115   \n",
      "area_mean                            0.722017        0.143570   \n",
      "smoothness_mean                      0.503053        0.394309   \n",
      "compactness_mean                     0.815573        0.510223   \n",
      "concavity_mean                       0.861323        0.409464   \n",
      "concave points_mean                  0.910155        0.375744   \n",
      "symmetry_mean                        0.430297        0.699826   \n",
      "fractal_dimension_mean               0.175325        0.334019   \n",
      "texture_se                          -0.119638       -0.128215   \n",
      "perimeter_se                         0.554897        0.109930   \n",
      "area_se                              0.538166        0.074126   \n",
      "smoothness_se                       -0.102007       -0.107342   \n",
      "compactness_se                       0.483208        0.277878   \n",
      "concavity_se                         0.440472        0.197788   \n",
      "concave points_se                    0.602450        0.143116   \n",
      "symmetry_se                         -0.030413        0.389402   \n",
      "fractal_dimension_se                 0.215204        0.111094   \n",
      "radius_worst                         0.787424        0.243529   \n",
      "texture_worst                        0.359755        0.233027   \n",
      "perimeter_worst                      0.816322        0.269493   \n",
      "area_worst                           0.747419        0.209146   \n",
      "smoothness_worst                     0.547691        0.493838   \n",
      "compactness_worst                    0.801080        0.614441   \n",
      "concavity_worst                      0.855434        0.532520   \n",
      "concave points_worst                 1.000000        0.502528   \n",
      "symmetry_worst                       0.502528        1.000000   \n",
      "fractal_dimension_worst              0.511114        0.537848   \n",
      "\n",
      "                         fractal_dimension_worst  \n",
      "id                                     -0.029866  \n",
      "diagnosis                               0.336282  \n",
      "radius_mean                             0.007066  \n",
      "texture_mean                            0.119205  \n",
      "perimeter_mean                          0.051019  \n",
      "area_mean                               0.003738  \n",
      "smoothness_mean                         0.499316  \n",
      "compactness_mean                        0.687382  \n",
      "concavity_mean                          0.514930  \n",
      "concave points_mean                     0.368661  \n",
      "symmetry_mean                           0.438413  \n",
      "fractal_dimension_mean                  0.767297  \n",
      "texture_se                             -0.045655  \n",
      "perimeter_se                            0.085433  \n",
      "area_se                                 0.017539  \n",
      "smoothness_se                           0.101480  \n",
      "compactness_se                          0.590973  \n",
      "concavity_se                            0.439329  \n",
      "concave points_se                       0.310655  \n",
      "symmetry_se                             0.078079  \n",
      "fractal_dimension_se                    0.591328  \n",
      "radius_worst                            0.093492  \n",
      "texture_worst                           0.219122  \n",
      "perimeter_worst                         0.138957  \n",
      "area_worst                              0.079647  \n",
      "smoothness_worst                        0.617624  \n",
      "compactness_worst                       0.810455  \n",
      "concavity_worst                         0.686511  \n",
      "concave points_worst                    0.511114  \n",
      "symmetry_worst                          0.537848  \n",
      "fractal_dimension_worst                 1.000000  \n",
      "\n",
      "[31 rows x 31 columns]\n"
     ]
    }
   ],
   "source": [
    "#correlation checking\n",
    "df = data.drop('radius_se', axis=1)\n",
    "\n",
    "# Calculate correlation matrix\n",
    "correlation_matrix = df.corr()\n",
    "\n",
    "# Display the correlation matrix\n",
    "print(correlation_matrix)\n"
   ]
  },
  {
   "cell_type": "code",
   "execution_count": 22,
   "metadata": {
    "colab": {
     "base_uri": "https://localhost:8080/",
     "height": 268
    },
    "id": "boE0O74qTDqM",
    "outputId": "df0daf9e-e73b-4c9f-9623-c907dff1fce1"
   },
   "outputs": [
    {
     "data": {
      "image/png": "[encoded data removed]",
      "text/plain": [
       "<Figure size 1076.74x250 with 4 Axes>"
      ]
     },
     "metadata": {},
     "output_type": "display_data"
    }
   ],
   "source": [
    "# Visualize pairplots\n",
    "sns.pairplot(data, x_vars=['radius_mean', 'texture_mean', 'perimeter_mean', 'area_mean'], y_vars=['diagnosis'], hue='diagnosis')\n",
    "plt.show()"
   ]
  },
  {
   "cell_type": "code",
   "execution_count": 23,
   "metadata": {
    "colab": {
     "base_uri": "https://localhost:8080/",
     "height": 268
    },
    "id": "CwMfJzaGTHCS",
    "outputId": "a6a8cd8b-049e-48e0-dd3a-fd968c2be7f3"
   },
   "outputs": [
    {
     "data": {
      "image/png": "[encoded data removed]",
      "text/plain": [
       "<Figure size 1000x250 with 4 Axes>"
      ]
     },
     "metadata": {},
     "output_type": "display_data"
    }
   ],
   "source": [
    "sns.pairplot(data, x_vars=['smoothness_mean', 'symmetry_mean', 'concavity_mean', 'concave points_mean'], y_vars=['diagnosis'])\n",
    "plt.show()"
   ]
  },
  {
   "cell_type": "code",
   "execution_count": 24,
   "metadata": {
    "colab": {
     "base_uri": "https://localhost:8080/"
    },
    "id": "DBrgV07bLi4J",
    "outputId": "49159bda-8e22-45f0-add1-4cf133928e0d"
   },
   "outputs": [
    {
     "name": "stdout",
     "output_type": "stream",
     "text": [
      "Number of samples before dropping missing values: 569\n"
     ]
    }
   ],
   "source": [
    "print(\"Number of samples before dropping missing values:\", len(data))"
   ]
  },
  {
   "cell_type": "code",
   "execution_count": 25,
   "metadata": {
    "id": "Uf5V25egO_oO"
   },
   "outputs": [],
   "source": [
    "x_train,x_test,y_train,y_test=train_test_split(x1,y1,train_size=0.7,random_state=123)\n"
   ]
  },
  {
   "cell_type": "code",
   "execution_count": 26,
   "metadata": {
    "colab": {
     "base_uri": "https://localhost:8080/"
    },
    "id": "6akK5p3OVavN",
    "outputId": "c173db9b-5b78-49ec-8cbd-1a4bfeb7c8a8"
   },
   "outputs": [
    {
     "data": {
      "text/plain": [
       "((398, 30), (171, 30), (398,), (171,))"
      ]
     },
     "execution_count": 26,
     "metadata": {},
     "output_type": "execute_result"
    }
   ],
   "source": [
    "x_train.shape,x_test.shape,y_train.shape,y_test.shape"
   ]
  },
  {
   "cell_type": "code",
   "execution_count": 27,
   "metadata": {
    "id": "1wx7SlyaVqq4"
   },
   "outputs": [],
   "source": [
    "model=LogisticRegression(max_iter=5000)"
   ]
  },
  {
   "cell_type": "code",
   "execution_count": 28,
   "metadata": {
    "colab": {
     "base_uri": "https://localhost:8080/",
     "height": 74
    },
    "id": "j_Zrts_UVzvF",
    "outputId": "bc576ad3-4897-479c-d466-01d846a873af"
   },
   "outputs": [
    {
     "data": {
      "text/plain": [
       "LogisticRegression(max_iter=5000)"
      ]
     },
     "execution_count": 28,
     "metadata": {},
     "output_type": "execute_result"
    }
   ],
   "source": [
    "model.fit(x_train,y_train)"
   ]
  },
  {
   "cell_type": "code",
   "execution_count": 29,
   "metadata": {
    "id": "DWuesxlUV84x"
   },
   "outputs": [],
   "source": [
    "y_pred=model.predict(x_test)"
   ]
  },
  {
   "cell_type": "code",
   "execution_count": 30,
   "metadata": {
    "colab": {
     "base_uri": "https://localhost:8080/"
    },
    "id": "czw_aURWthSJ",
    "outputId": "ac5c548d-17be-45aa-8e4d-a84478708938"
   },
   "outputs": [
    {
     "name": "stdout",
     "output_type": "stream",
     "text": [
      "[1 2 0]\n"
     ]
    }
   ],
   "source": [
    "print(data['diagnosis'].unique())"
   ]
  },
  {
   "cell_type": "code",
   "execution_count": 34,
   "metadata": {
    "colab": {
     "base_uri": "https://localhost:8080/"
    },
    "id": "nLdjE3liuIVR",
    "outputId": "a143c245-badd-4c7c-8f03-142f1da39c98"
   },
   "outputs": [
    {
     "name": "stdout",
     "output_type": "stream",
     "text": [
      "Accuracy: 0.9649122807017544\n",
      "Precision: 0.9592346562198376\n",
      "Recall: 0.9649122807017544\n",
      "Confusion Matrix:\n",
      "[[100   2   0]\n",
      " [  3  65   0]\n",
      " [  0   1   0]]\n",
      "Classification Report:\n",
      "              precision    recall  f1-score   support\n",
      "\n",
      "           0       0.97      0.98      0.98       102\n",
      "           1       0.96      0.96      0.96        68\n",
      "           2       0.00      0.00      0.00         1\n",
      "\n",
      "    accuracy                           0.96       171\n",
      "   macro avg       0.64      0.65      0.64       171\n",
      "weighted avg       0.96      0.96      0.96       171\n",
      "\n"
     ]
    }
   ],
   "source": [
    "#RandomForest Classifier\n",
    "data['diagnosis'] = data['diagnosis'].map({'M': 1, 'B': 0})\n",
    "\n",
    "feature_cols = ['radius_mean', 'texture_mean', 'perimeter_mean', 'area_mean', 'smoothness_mean', 'compactness_mean', 'concavity_mean', 'concave points_mean', 'symmetry_mean', 'fractal_dimension_mean', 'texture_se', 'perimeter_se', 'area_se', 'smoothness_se', 'compactness_se', 'concavity_se', 'concave points_se', 'symmetry_se', 'fractal_dimension_se', 'radius_worst', 'texture_worst', 'perimeter_worst', 'area_worst', 'smoothness_worst', 'compactness_worst', 'concavity_worst', 'concave points_worst', 'symmetry_worst', 'fractal_dimension_worst']\n",
    "\n",
    "x_train,x_test,y_train,y_test=train_test_split(x1,y1,train_size=0.7,random_state=2529)\n",
    "\n",
    "rf_model = RandomForestClassifier(random_state=2529)\n",
    "\n",
    "# Train the model\n",
    "rf_model.fit(x_train, y_train)\n",
    "\n",
    "# Predictions on the test set\n",
    "y_pred = rf_model.predict(x_test)\n",
    "\n",
    "# Evaluate the model\n",
    "accuracy = accuracy_score(y_test, y_pred)\n",
    "precision = precision_score(y_test, y_pred, average='weighted')\n",
    "recall = recall_score(y_test, y_pred, average='weighted')\n",
    "conf_matrix = confusion_matrix(y_test, y_pred)\n",
    "classification_rep = classification_report(y_test, y_pred)\n",
    "\n",
    "# Display results\n",
    "print(f\"Accuracy: {accuracy}\")\n",
    "print(f\"Precision: {precision}\")\n",
    "print(f\"Recall: {recall}\")\n",
    "print(f\"Confusion Matrix:\\n{conf_matrix}\")\n",
    "print(f\"Classification Report:\\n{classification_rep}\")\n"
   ]
  },
  {
   "cell_type": "code",
   "execution_count": 35,
   "metadata": {
    "colab": {
     "base_uri": "https://localhost:8080/"
    },
    "id": "zyyeJOwNWKnW",
    "outputId": "f1865889-c6bf-4ab1-e399-7aac1ed42c3e"
   },
   "outputs": [
    {
     "data": {
      "text/plain": [
       "array([[100,   2,   0],\n",
       "       [  3,  65,   0],\n",
       "       [  0,   1,   0]], dtype=int64)"
      ]
     },
     "execution_count": 35,
     "metadata": {},
     "output_type": "execute_result"
    }
   ],
   "source": [
    "confusion_matrix(y_test,y_pred)"
   ]
  },
  {
   "cell_type": "code",
   "execution_count": 36,
   "metadata": {
    "colab": {
     "base_uri": "https://localhost:8080/"
    },
    "id": "wEvxA7OqWYnQ",
    "outputId": "e6900416-c8d0-4db3-b0c9-885b6e0b571c"
   },
   "outputs": [
    {
     "data": {
      "text/plain": [
       "0.9649122807017544"
      ]
     },
     "execution_count": 36,
     "metadata": {},
     "output_type": "execute_result"
    }
   ],
   "source": [
    "accuracy_score(y_test,y_pred)"
   ]
  },
  {
   "cell_type": "code",
   "execution_count": 37,
   "metadata": {
    "colab": {
     "base_uri": "https://localhost:8080/"
    },
    "id": "veTgWzezWhEi",
    "outputId": "9f03c1ff-d563-4fa5-84b0-40ebdac875e7"
   },
   "outputs": [
    {
     "name": "stdout",
     "output_type": "stream",
     "text": [
      "              precision    recall  f1-score   support\n",
      "\n",
      "           0       0.97      0.98      0.98       102\n",
      "           1       0.96      0.96      0.96        68\n",
      "           2       0.00      0.00      0.00         1\n",
      "\n",
      "    accuracy                           0.96       171\n",
      "   macro avg       0.64      0.65      0.64       171\n",
      "weighted avg       0.96      0.96      0.96       171\n",
      "\n"
     ]
    }
   ],
   "source": [
    "print(classification_report(y_test,y_pred))"
   ]
  },
  {
   "cell_type": "code",
   "execution_count": 40,
   "metadata": {
    "colab": {
     "base_uri": "https://localhost:8080/"
    },
    "id": "rDGwapMENZ8I",
    "outputId": "639dee74-f108-4228-e08c-d23e413fbb68"
   },
   "outputs": [
    {
     "data": {
      "text/plain": [
       "0.9649122807017544"
      ]
     },
     "execution_count": 40,
     "metadata": {},
     "output_type": "execute_result"
    }
   ],
   "source": [
    "recall_score(y_test,y_pred, average='weighted')"
   ]
  },
  {
   "cell_type": "code",
   "execution_count": 41,
   "metadata": {
    "colab": {
     "base_uri": "https://localhost:8080/"
    },
    "id": "P_Dr7hJkNl0T",
    "outputId": "3284ee15-ad91-4d8c-d7e1-e5b4cf737d87"
   },
   "outputs": [
    {
     "data": {
      "text/plain": [
       "0.9592346562198376"
      ]
     },
     "execution_count": 41,
     "metadata": {},
     "output_type": "execute_result"
    }
   ],
   "source": [
    "precision_score(y_test,y_pred, average='weighted')"
   ]
  },
  {
   "cell_type": "code",
   "execution_count": null,
   "metadata": {},
   "outputs": [],
   "source": []
  }
 ],
 "metadata": {
  "colab": {
   "provenance": [],
   "toc_visible": true
  },
  "kernelspec": {
   "display_name": "Python 3 (ipykernel)",
   "language": "python",
   "name": "python3"
  },
  "language_info": {
   "codemirror_mode": {
    "name": "ipython",
    "version": 3
   },
   "file_extension": ".py",
   "mimetype": "text/x-python",
   "name": "python",
   "nbconvert_exporter": "python",
   "pygments_lexer": "ipython3",
   "version": "3.9.13"
  }
 },
 "nbformat": 4,
 "nbformat_minor": 1
}
